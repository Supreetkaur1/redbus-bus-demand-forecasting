{
  "nbformat": 4,
  "nbformat_minor": 0,
  "metadata": {
    "colab": {
      "provenance": [],
      "toc_visible": true
    },
    "kernelspec": {
      "name": "python3",
      "display_name": "Python 3"
    },
    "language_info": {
      "name": "python"
    }
  },
  "cells": [
    {
      "cell_type": "code",
      "execution_count": 18,
      "metadata": {
        "id": "vCq3hYHytWRN",
        "colab": {
          "base_uri": "https://localhost:8080/"
        },
        "outputId": "9be5569a-c117-4cb4-8c50-d5dfac258a9d"
      },
      "outputs": [
        {
          "output_type": "stream",
          "name": "stdout",
          "text": [
            "Validation RMSE: 697.84\n",
            "Submission file created with holiday features.\n"
          ]
        }
      ],
      "source": [
        "# Bus Demand Forecasting - Baseline Model with Holiday Features\n",
        "\n",
        "import pandas as pd\n",
        "import numpy as np\n",
        "from datetime import datetime\n",
        "from sklearn.model_selection import train_test_split\n",
        "from sklearn.metrics import mean_squared_error\n",
        "from xgboost import XGBRegressor\n",
        "import holidays\n",
        "\n",
        "# Load Data\n",
        "train = pd.read_csv('train.csv', parse_dates=['doj'])\n",
        "test = pd.read_csv('test.csv', parse_dates=['doj'])\n",
        "transactions = pd.read_csv('transactions.csv', parse_dates=['doj', 'doi'])\n",
        "submission = pd.read_csv('submission_file.csv')\n",
        "\n",
        "# Filter only rows with dbd = 15\n",
        "transactions_15dbd = transactions[transactions['dbd'] == 15]\n",
        "\n",
        "# Merge transactions_15dbd with train and test\n",
        "train_df = pd.merge(train, transactions_15dbd, on=['doj', 'srcid', 'destid'], how='left')\n",
        "test_df = pd.merge(test, transactions_15dbd, on=['doj', 'srcid', 'destid'], how='left')\n",
        "\n",
        "# ---------------------- Feature Engineering ----------------------\n",
        "\n",
        "# Date-based features\n",
        "def add_date_features(df):\n",
        "    df['day_of_week'] = df['doj'].dt.dayofweek\n",
        "    df['is_weekend'] = df['day_of_week'].isin([5,6]).astype(int)\n",
        "    df['month'] = df['doj'].dt.month\n",
        "    df['is_month_start'] = df['doj'].dt.is_month_start.astype(int)\n",
        "    df['is_month_end'] = df['doj'].dt.is_month_end.astype(int)\n",
        "    return df\n",
        "\n",
        "# Holiday-based features\n",
        "def add_holiday_features(df):\n",
        "    indian_holidays = holidays.India(years=[2024, 2025])\n",
        "\n",
        "    # Convert holiday dates to pandas Timestamps for comparison\n",
        "    holiday_timestamps = pd.to_datetime(list(indian_holidays.keys()))\n",
        "\n",
        "    df['is_holiday'] = df['doj'].isin(holiday_timestamps).astype(int)\n",
        "\n",
        "    df['days_to_next_holiday'] = df['doj'].apply(\n",
        "        # Use holiday_timestamps instead of indian_holidays\n",
        "        lambda x: min([(h - x).days for h in holiday_timestamps if (h - x).days >= 0] + [100])\n",
        "    )\n",
        "    df['days_from_last_holiday'] = df['doj'].apply(\n",
        "        # Use holiday_timestamps instead of indian_holidays\n",
        "        lambda x: min([(x - h).days for h in holiday_timestamps if (x - h).days >= 0] + [100])\n",
        "    )\n",
        "\n",
        "    df['day_of_week'] = df['doj'].dt.weekday  # Required again here\n",
        "    df['is_long_weekend'] = 0\n",
        "    df.loc[(df['day_of_week'] == 0) & (df['days_from_last_holiday'] == 1), 'is_long_weekend'] = 1\n",
        "    df.loc[(df['day_of_week'] == 4) & (df['days_to_next_holiday'] == 1), 'is_long_weekend'] = 1\n",
        "\n",
        "    return df\n",
        "\n",
        "# Apply feature functions\n",
        "train_df = add_date_features(train_df)\n",
        "test_df = add_date_features(test_df)\n",
        "\n",
        "train_df = add_holiday_features(train_df)\n",
        "test_df = add_holiday_features(test_df)\n",
        "\n",
        "# Seat to search ratio\n",
        "train_df['seat_to_search'] = train_df['cumsum_seatcount'] / (train_df['cumsum_searchcount'] + 1)\n",
        "test_df['seat_to_search'] = test_df['cumsum_seatcount'] / (test_df['cumsum_searchcount'] + 1)\n",
        "\n",
        "# Fill NA values\n",
        "train_df.fillna(0, inplace=True)\n",
        "test_df.fillna(0, inplace=True)\n",
        "\n",
        "# ---------------------- Feature Selection ----------------------\n",
        "\n",
        "features = [\n",
        "    'cumsum_seatcount', 'cumsum_searchcount', 'seat_to_search',\n",
        "    'srcid_tier', 'destid_tier',\n",
        "    'day_of_week', 'is_weekend', 'month', 'is_month_start', 'is_month_end',\n",
        "    'is_holiday', 'days_to_next_holiday', 'days_from_last_holiday', 'is_long_weekend'\n",
        "]\n",
        "\n",
        "# Encode categorical tier features\n",
        "for col in ['srcid_tier', 'destid_tier']:\n",
        "    train_df[col] = train_df[col].astype('category').cat.codes\n",
        "    test_df[col] = test_df[col].astype('category').cat.codes\n",
        "\n",
        "# Prepare training data\n",
        "X = train_df[features]\n",
        "y = train_df['final_seatcount']\n",
        "\n",
        "# Train-Test Split for validation\n",
        "X_train, X_val, y_train, y_val = train_test_split(X, y, test_size=0.2, random_state=42)\n",
        "\n",
        "# Model Training\n",
        "model = XGBRegressor(n_estimators=200, learning_rate=0.1, max_depth=6, random_state=42)\n",
        "model.fit(X_train, y_train)\n",
        "\n",
        "# Validation\n",
        "val_preds = model.predict(X_val)\n",
        "rmse = np.sqrt(mean_squared_error(y_val, val_preds))\n",
        "print(f\"Validation RMSE: {rmse:.2f}\")\n",
        "\n",
        "# Final Prediction\n",
        "test_preds = model.predict(test_df[features])\n",
        "\n",
        "# Submission\n",
        "submission['final_seatcount'] = test_preds\n",
        "submission.to_csv('submission.csv', index=False)\n",
        "print(\"Submission file created with holiday features.\")"
      ]
    },
    {
      "cell_type": "code",
      "source": [
        "import os\n",
        "os.listdir()"
      ],
      "metadata": {
        "colab": {
          "base_uri": "https://localhost:8080/"
        },
        "id": "pPanyn9CyvUo",
        "outputId": "58ece43b-024b-4d6b-c178-d78ca83adde7"
      },
      "execution_count": null,
      "outputs": [
        {
          "output_type": "execute_result",
          "data": {
            "text/plain": [
              "['.config', 'test.csv', 'train.csv', 'transactions.csv', 'sample_data']"
            ]
          },
          "metadata": {},
          "execution_count": 8
        }
      ]
    }
  ]
}